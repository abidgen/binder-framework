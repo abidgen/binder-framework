{
 "cells": [
  {
   "cell_type": "markdown",
   "metadata": {},
   "source": [
    "# DAY4"
   ]
  },
  {
   "cell_type": "code",
   "execution_count": 1,
   "metadata": {},
   "outputs": [],
   "source": [
    "import os\n",
    "import urllib\n",
    "import numpy as np\n",
    "import pandas as pd"
   ]
  },
  {
   "cell_type": "code",
   "execution_count": 2,
   "metadata": {},
   "outputs": [
    {
     "name": "stdout",
     "output_type": "stream",
     "text": [
      "file exists\n"
     ]
    }
   ],
   "source": [
    "if os.path.exists('./data.csv'):\n",
    "    print('file exists')\n",
    "else: \n",
    "    urllib.request.urlretrieve ('https://data.cityofnewyork.us/api/views/bug8-9f3g/rows.csv?accessType=DOWNLOAD', \"./data.csv\")\n",
    "    print('file downloaded')\n",
    "    \n",
    "data = pd.read_csv('data.csv')"
   ]
  },
  {
   "cell_type": "markdown",
   "metadata": {},
   "source": [
    "#### 1. How many different companies are represented in the data set?"
   ]
  },
  {
   "cell_type": "code",
   "execution_count": 3,
   "metadata": {},
   "outputs": [
    {
     "name": "stdout",
     "output_type": "stream",
     "text": [
      "There are 439 different companies in the data set.\n"
     ]
    }
   ],
   "source": [
    "company_number = len(data['Company Name'].unique())\n",
    "\n",
    "print('There are %d different companies in the data set.' % (company_number))"
   ]
  },
  {
   "cell_type": "markdown",
   "metadata": {},
   "source": [
    "#### 2. What is the total number of jobs created for businesses in Queens?"
   ]
  },
  {
   "cell_type": "code",
   "execution_count": 4,
   "metadata": {},
   "outputs": [
    {
     "name": "stdout",
     "output_type": "stream",
     "text": [
      "A total of 90 jobs were created in queens.\n"
     ]
    }
   ],
   "source": [
    "jobs_created_in_queens = data[['City','State','Job created']].groupby('City')['Job created'].agg('sum')['Queens']\n",
    "\n",
    "print('A total of %d jobs were created in queens.'% (jobs_created_in_queens))"
   ]
  },
  {
   "cell_type": "markdown",
   "metadata": {},
   "source": [
    "#### 3. How many different unique email domains names are there in the data set?"
   ]
  },
  {
   "cell_type": "code",
   "execution_count": 5,
   "metadata": {},
   "outputs": [
    {
     "name": "stdout",
     "output_type": "stream",
     "text": [
      "There are 358 unique email domains in the data set.\n"
     ]
    }
   ],
   "source": [
    "email_domain_number =len(data['company email'].str.split('@', expand=True)[1].unique())\n",
    "\n",
    "print('There are %d unique email domains in the data set.' % (email_domain_number))"
   ]
  },
  {
   "cell_type": "markdown",
   "metadata": {},
   "source": [
    "#### 4. Considering only NTAs with at least 5 listed businesses, what is the average total savings and the total jobs created for each NTA?"
   ]
  },
  {
   "cell_type": "code",
   "execution_count": 6,
   "metadata": {},
   "outputs": [
    {
     "data": {
      "text/html": [
       "<div>\n",
       "<style scoped>\n",
       "    .dataframe tbody tr th:only-of-type {\n",
       "        vertical-align: middle;\n",
       "    }\n",
       "\n",
       "    .dataframe tbody tr th {\n",
       "        vertical-align: top;\n",
       "    }\n",
       "\n",
       "    .dataframe thead th {\n",
       "        text-align: right;\n",
       "    }\n",
       "</style>\n",
       "<table border=\"1\" class=\"dataframe\">\n",
       "  <thead>\n",
       "    <tr style=\"text-align: right;\">\n",
       "      <th></th>\n",
       "      <th>NTA</th>\n",
       "      <th>company_count</th>\n",
       "      <th>avg_total_saving</th>\n",
       "      <th>job_created</th>\n",
       "    </tr>\n",
       "  </thead>\n",
       "  <tbody>\n",
       "    <tr>\n",
       "      <th>0</th>\n",
       "      <td>Battery Park City-Lower Manhattan</td>\n",
       "      <td>9</td>\n",
       "      <td>469890.796667</td>\n",
       "      <td>0.0</td>\n",
       "    </tr>\n",
       "    <tr>\n",
       "      <th>1</th>\n",
       "      <td>Bushwick South</td>\n",
       "      <td>10</td>\n",
       "      <td>26140.455000</td>\n",
       "      <td>10.0</td>\n",
       "    </tr>\n",
       "    <tr>\n",
       "      <th>2</th>\n",
       "      <td>Carroll Gardens-Columbia Street-Red Hook</td>\n",
       "      <td>11</td>\n",
       "      <td>24337.390000</td>\n",
       "      <td>0.0</td>\n",
       "    </tr>\n",
       "    <tr>\n",
       "      <th>3</th>\n",
       "      <td>College Point</td>\n",
       "      <td>7</td>\n",
       "      <td>17159.372857</td>\n",
       "      <td>2.0</td>\n",
       "    </tr>\n",
       "    <tr>\n",
       "      <th>4</th>\n",
       "      <td>Crown Heights North</td>\n",
       "      <td>9</td>\n",
       "      <td>4036.298889</td>\n",
       "      <td>0.0</td>\n",
       "    </tr>\n",
       "    <tr>\n",
       "      <th>5</th>\n",
       "      <td>DUMBO-Vinegar Hill-Downtown Brooklyn-Boerum Hill</td>\n",
       "      <td>10</td>\n",
       "      <td>59950.340000</td>\n",
       "      <td>0.0</td>\n",
       "    </tr>\n",
       "    <tr>\n",
       "      <th>6</th>\n",
       "      <td>East New York</td>\n",
       "      <td>9</td>\n",
       "      <td>48433.093333</td>\n",
       "      <td>15.0</td>\n",
       "    </tr>\n",
       "    <tr>\n",
       "      <th>7</th>\n",
       "      <td>East Williamsburg</td>\n",
       "      <td>11</td>\n",
       "      <td>13990.626364</td>\n",
       "      <td>0.0</td>\n",
       "    </tr>\n",
       "    <tr>\n",
       "      <th>8</th>\n",
       "      <td>Greenpoint</td>\n",
       "      <td>14</td>\n",
       "      <td>9753.649286</td>\n",
       "      <td>0.0</td>\n",
       "    </tr>\n",
       "    <tr>\n",
       "      <th>9</th>\n",
       "      <td>Hunters Point-Sunnyside-West Maspeth</td>\n",
       "      <td>75</td>\n",
       "      <td>23931.398933</td>\n",
       "      <td>0.0</td>\n",
       "    </tr>\n",
       "    <tr>\n",
       "      <th>10</th>\n",
       "      <td>Hunts Point</td>\n",
       "      <td>13</td>\n",
       "      <td>39246.016154</td>\n",
       "      <td>12.0</td>\n",
       "    </tr>\n",
       "    <tr>\n",
       "      <th>11</th>\n",
       "      <td>Manhattanville</td>\n",
       "      <td>9</td>\n",
       "      <td>2760.888889</td>\n",
       "      <td>0.0</td>\n",
       "    </tr>\n",
       "    <tr>\n",
       "      <th>12</th>\n",
       "      <td>Maspeth</td>\n",
       "      <td>9</td>\n",
       "      <td>6658.283333</td>\n",
       "      <td>10.0</td>\n",
       "    </tr>\n",
       "    <tr>\n",
       "      <th>13</th>\n",
       "      <td>Mott Haven-Port Morris</td>\n",
       "      <td>14</td>\n",
       "      <td>17843.937857</td>\n",
       "      <td>10.0</td>\n",
       "    </tr>\n",
       "    <tr>\n",
       "      <th>14</th>\n",
       "      <td>Queensbridge-Ravenswood-Long Island City</td>\n",
       "      <td>16</td>\n",
       "      <td>61830.770625</td>\n",
       "      <td>0.0</td>\n",
       "    </tr>\n",
       "    <tr>\n",
       "      <th>15</th>\n",
       "      <td>SoHo-TriBeCa-Civic Center-Little Italy</td>\n",
       "      <td>5</td>\n",
       "      <td>37214.024000</td>\n",
       "      <td>0.0</td>\n",
       "    </tr>\n",
       "    <tr>\n",
       "      <th>16</th>\n",
       "      <td>Springfield Gardens South-Brookville</td>\n",
       "      <td>5</td>\n",
       "      <td>17757.662000</td>\n",
       "      <td>0.0</td>\n",
       "    </tr>\n",
       "    <tr>\n",
       "      <th>17</th>\n",
       "      <td>Steinway</td>\n",
       "      <td>7</td>\n",
       "      <td>11227.155714</td>\n",
       "      <td>20.0</td>\n",
       "    </tr>\n",
       "    <tr>\n",
       "      <th>18</th>\n",
       "      <td>Sunset Park West</td>\n",
       "      <td>48</td>\n",
       "      <td>14316.976875</td>\n",
       "      <td>0.0</td>\n",
       "    </tr>\n",
       "    <tr>\n",
       "      <th>19</th>\n",
       "      <td>park-cemetery-etc-Brooklyn</td>\n",
       "      <td>15</td>\n",
       "      <td>14327.419333</td>\n",
       "      <td>0.0</td>\n",
       "    </tr>\n",
       "  </tbody>\n",
       "</table>\n",
       "</div>"
      ],
      "text/plain": [
       "                                                 NTA  company_count  \\\n",
       "0                  Battery Park City-Lower Manhattan              9   \n",
       "1                                     Bushwick South             10   \n",
       "2           Carroll Gardens-Columbia Street-Red Hook             11   \n",
       "3                                      College Point              7   \n",
       "4                                Crown Heights North              9   \n",
       "5   DUMBO-Vinegar Hill-Downtown Brooklyn-Boerum Hill             10   \n",
       "6                                      East New York              9   \n",
       "7                                  East Williamsburg             11   \n",
       "8                                         Greenpoint             14   \n",
       "9               Hunters Point-Sunnyside-West Maspeth             75   \n",
       "10                                       Hunts Point             13   \n",
       "11                                    Manhattanville              9   \n",
       "12                                           Maspeth              9   \n",
       "13                            Mott Haven-Port Morris             14   \n",
       "14          Queensbridge-Ravenswood-Long Island City             16   \n",
       "15            SoHo-TriBeCa-Civic Center-Little Italy              5   \n",
       "16              Springfield Gardens South-Brookville              5   \n",
       "17                                          Steinway              7   \n",
       "18                                  Sunset Park West             48   \n",
       "19                        park-cemetery-etc-Brooklyn             15   \n",
       "\n",
       "    avg_total_saving  job_created  \n",
       "0      469890.796667          0.0  \n",
       "1       26140.455000         10.0  \n",
       "2       24337.390000          0.0  \n",
       "3       17159.372857          2.0  \n",
       "4        4036.298889          0.0  \n",
       "5       59950.340000          0.0  \n",
       "6       48433.093333         15.0  \n",
       "7       13990.626364          0.0  \n",
       "8        9753.649286          0.0  \n",
       "9       23931.398933          0.0  \n",
       "10      39246.016154         12.0  \n",
       "11       2760.888889          0.0  \n",
       "12       6658.283333         10.0  \n",
       "13      17843.937857         10.0  \n",
       "14      61830.770625          0.0  \n",
       "15      37214.024000          0.0  \n",
       "16      17757.662000          0.0  \n",
       "17      11227.155714         20.0  \n",
       "18      14316.976875          0.0  \n",
       "19      14327.419333          0.0  "
      ]
     },
     "execution_count": 6,
     "metadata": {},
     "output_type": "execute_result"
    }
   ],
   "source": [
    "NTA_details = data.groupby('NTA').agg(company_count=('Company Name','count'), avg_total_saving=('Total Savings','mean'), job_created=('Job created','sum'))\n",
    "\n",
    "NTA_5min_details = NTA_details[NTA_details['company_count'] >=5].reset_index()\n",
    "\n",
    "NTA_5min_details\n",
    "\n"
   ]
  },
  {
   "cell_type": "markdown",
   "metadata": {},
   "source": [
    "#### 5. Save your result for the previous question as a CSV file."
   ]
  },
  {
   "cell_type": "code",
   "execution_count": 7,
   "metadata": {},
   "outputs": [],
   "source": [
    "NTA_5min_details.to_csv('NTA_5min_details.csv')"
   ]
  },
  {
   "cell_type": "markdown",
   "metadata": {},
   "source": [
    "# DAY5"
   ]
  },
  {
   "cell_type": "code",
   "execution_count": 8,
   "metadata": {},
   "outputs": [],
   "source": [
    "import matplotlib.pyplot as plt\n",
    "import seaborn as sns\n",
    "import datetime as dt"
   ]
  },
  {
   "cell_type": "markdown",
   "metadata": {},
   "source": [
    "#### Scatter plot: Avg. total svaings vs. Jobs created"
   ]
  },
  {
   "cell_type": "code",
   "execution_count": 9,
   "metadata": {},
   "outputs": [
    {
     "data": {
      "image/png": "[encoded data removed]",
      "text/plain": [
       "<Figure size 1080x504 with 2 Axes>"
      ]
     },
     "metadata": {
      "needs_background": "light"
     },
     "output_type": "display_data"
    }
   ],
   "source": [
    "sns.set_context('notebook',font_scale=1.5)\n",
    "\n",
    "fig, (ax1, ax2) = plt.subplots(1,2, figsize=(15,7))\n",
    "\n",
    "ax1.scatter(NTA_5min_details['job_created'],NTA_5min_details['avg_total_saving']/1000, alpha=0.75, ec='black')\n",
    "ax1.set_xlabel('Jobs created' )\n",
    "ax1.set_ylabel('Average total saving (thousand)')\n",
    "\n",
    "ax2.scatter(NTA_5min_details['job_created'],NTA_5min_details['avg_total_saving'], alpha=0.75, ec='black')\n",
    "ax2.set_yscale('log',base=10)\n",
    "ax2.set_xlabel('Jobs created' )\n",
    "ax2.set_ylabel('Average total saving (log10)')\n",
    "\n",
    "plt.suptitle('Avg. total svaings vs. Jobs created',x =0.25)\n",
    "plt.show()"
   ]
  },
  {
   "cell_type": "markdown",
   "metadata": {},
   "source": [
    "#### Histogram of the log of the average total savings"
   ]
  },
  {
   "cell_type": "code",
   "execution_count": 17,
   "metadata": {
    "scrolled": true
   },
   "outputs": [
    {
     "data": {
      "image/png": "[encoded data removed]",
      "text/plain": [
       "<Figure size 576x324 with 1 Axes>"
      ]
     },
     "metadata": {
      "needs_background": "light"
     },
     "output_type": "display_data"
    }
   ],
   "source": [
    "sns.set_context('notebook',font_scale=1.5)\n",
    "\n",
    "fig, ax = plt.subplots(1,1, figsize=(8,4.5))\n",
    "\n",
    "ax.hist(np.log10(NTA_5min_details['avg_total_saving']), alpha=0.5, histtype='bar', ec='black')\n",
    "\n",
    "ax.set_xlabel('log10 of average total saving' )\n",
    "ax.set_ylabel('Frequency')\n",
    "\n",
    "plt.suptitle('Distribution of the log of the average total savings.',x =0.5)\n",
    "\n",
    "plt.show()"
   ]
  },
  {
   "cell_type": "markdown",
   "metadata": {},
   "source": [
    "#### Lineplot: Number of jobs created per month"
   ]
  },
  {
   "cell_type": "code",
   "execution_count": 11,
   "metadata": {},
   "outputs": [],
   "source": [
    "data['Effective Date'] = pd.to_datetime(data['Effective Date'], dayfirst=False)\n",
    "time_line = pd.PeriodIndex(data['Effective Date'], freq='M')\n",
    "data['year_month'] = time_line\n",
    "g_data = data.groupby('year_month')['Job created'].sum()\n",
    "time_period=pd.PeriodIndex(g_data.index, freq='M')\n",
    "g_data.index = time_period.to_timestamp()"
   ]
  },
  {
   "cell_type": "code",
   "execution_count": 12,
   "metadata": {},
   "outputs": [
    {
     "data": {
      "image/png": "[encoded data removed]",
      "text/plain": [
       "<Figure size 1080x504 with 1 Axes>"
      ]
     },
     "metadata": {
      "needs_background": "light"
     },
     "output_type": "display_data"
    }
   ],
   "source": [
    "import matplotlib.dates as mdates\n",
    "\n",
    "sns.set_context('notebook',font_scale=1.5)\n",
    "\n",
    "fig, ax = plt.subplots(1,1, figsize=(15,7))\n",
    "\n",
    "ax.plot(g_data.index,g_data)\n",
    "ax.scatter(g_data.index,g_data, alpha=0.4,  ec='black')\n",
    "ax.set_xlabel('Timeline (Month)' )\n",
    "ax.set_ylabel('Number of jobs created')\n",
    "\n",
    "\n",
    "quarters = mdates.MonthLocator(interval=3)\n",
    "ax.xaxis.set_minor_locator(quarters)\n",
    "ax.tick_params(axis='x', which='minor', direction=\"in\")\n",
    "\n",
    "plt.suptitle('Number of jobs created per month',x =0.25)\n",
    "\n",
    "plt.show()"
   ]
  },
  {
   "cell_type": "code",
   "execution_count": null,
   "metadata": {},
   "outputs": [],
   "source": []
  }
 ],
 "metadata": {
  "kernelspec": {
   "display_name": "Python 3",
   "language": "python",
   "name": "python3"
  },
  "language_info": {
   "codemirror_mode": {
    "name": "ipython",
    "version": 3
   },
   "file_extension": ".py",
   "mimetype": "text/x-python",
   "name": "python",
   "nbconvert_exporter": "python",
   "pygments_lexer": "ipython3",
   "version": "3.8.8"
  }
 },
 "nbformat": 4,
 "nbformat_minor": 2
}
